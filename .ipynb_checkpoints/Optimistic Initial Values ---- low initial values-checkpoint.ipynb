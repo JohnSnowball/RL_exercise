{
 "cells": [
  {
   "cell_type": "code",
   "execution_count": null,
   "metadata": {
    "collapsed": true
   },
   "outputs": [],
   "source": [
    "import numpy as np\n",
    "import matplotlib.pyplot as plt\n",
    "import random as random\n",
    "\n",
    "mu = 0\n",
    "sigma =1\n",
    "group_num = 2000\n",
    "arm_num = 10\n",
    "play_num = 1000\n",
    "average_reward_1 = np.array([0]* play_num, dtype= 'float')\n",
    "optimal_action_rate_1 = np.array([0]* play_num, dtype= 'float')\n",
    "\n",
    "q_real = np.zeros((group_num,arm_num))\n",
    "q_get = np.zeros((group_num,arm_num))\n",
    "q_get += -5\n",
    "for q_ele in range(group_num):\n",
    "    q_real[q_ele] = np.random.normal(mu, sigma,arm_num)\n",
    "    \n",
    "sum_of_q = 0\n",
    "j=1\n",
    "optimal_action = 0\n",
    "epsilon = 0.1\n",
    "alpha = 0.1\n",
    "while j <= play_num:  \n",
    "    for group_index in range(group_num):\n",
    "        if (j == 1):\n",
    "            i = random.randint(0,9)\n",
    "        else:\n",
    "            i = np.argmax(q_get[group_index])\n",
    "        \n",
    "        if(i == np.argmax(q_real[group_index])):\n",
    "            optimal_action +=1\n",
    "        \n",
    "        q_get[group_index,i] += alpha*(q_real[group_index,i]-q_get[group_index,i])\n",
    "        sum_of_q += q_get[group_index,i]\n",
    "        for ele in range(arm_num):\n",
    "            q_real[group_index,ele] += random.uniform(-0.1,0.1)\n",
    "        \n",
    "    average_for_one_time = sum_of_q/group_num\n",
    "    average_reward_1[j-1] = average_for_one_time\n",
    "    optimal_action_rate_1[j-1] = optimal_action/group_num\n",
    "    sum_of_q = 0\n",
    "    optimal_action = 0\n",
    "    j += 1\n",
    "\n",
    "x = range(play_num)\n",
    "\n",
    "plt.plot(x,average_reward_1,'r')\n",
    "plt.show()\n",
    "\n",
    "plt.figure()\n",
    "\n",
    "plt.plot(x,optimal_action_rate_1,'r')\n",
    "plt.axis([-10,1010,0,1])\n",
    "plt.show()"
   ]
  }
 ],
 "metadata": {
  "kernelspec": {
   "display_name": "Python 3",
   "language": "python",
   "name": "python3"
  },
  "language_info": {
   "codemirror_mode": {
    "name": "ipython",
    "version": 3
   },
   "file_extension": ".py",
   "mimetype": "text/x-python",
   "name": "python",
   "nbconvert_exporter": "python",
   "pygments_lexer": "ipython3",
   "version": "3.6.0"
  }
 },
 "nbformat": 4,
 "nbformat_minor": 2
}
